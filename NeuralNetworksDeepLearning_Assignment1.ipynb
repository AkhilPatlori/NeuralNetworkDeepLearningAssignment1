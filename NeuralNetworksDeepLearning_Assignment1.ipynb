{
 "cells": [
  {
   "cell_type": "code",
   "execution_count": 2,
   "id": "378ebbdb",
   "metadata": {},
   "outputs": [],
   "source": [
    "import pandas as pd\n",
    "import numpy as np"
   ]
  },
  {
   "cell_type": "code",
   "execution_count": 4,
   "id": "fddbc951",
   "metadata": {},
   "outputs": [
    {
     "name": "stdout",
     "output_type": "stream",
     "text": [
      "              precision    recall  f1-score   support\n",
      "\n",
      "           1       0.19      0.44      0.27         9\n",
      "           2       0.33      0.16      0.21        19\n",
      "           3       0.33      0.20      0.25         5\n",
      "           5       0.00      0.00      0.00         2\n",
      "           6       0.67      1.00      0.80         2\n",
      "           7       1.00      1.00      1.00         6\n",
      "\n",
      "    accuracy                           0.37        43\n",
      "   macro avg       0.42      0.47      0.42        43\n",
      "weighted avg       0.40      0.37      0.36        43\n",
      "\n",
      "Naive Bayes accuracy is:  37.2093023255814\n"
     ]
    }
   ],
   "source": [
    "#1.Implement Naïve Bayes method using scikit-learn library \n",
    "# Use dataset available with name glass \n",
    "# Use train_test_split to create training and testing part \n",
    "# Evaluate the model on test part using score and \n",
    "# classification_report(y_true, y_pred)\n",
    "\n",
    "\n",
    "from sklearn.model_selection import train_test_split\n",
    "from sklearn.naive_bayes import GaussianNB\n",
    "from sklearn.metrics import classification_report, accuracy_score\n",
    "\n",
    "\n",
    "glass_data = pd.read_csv('glass.csv')\n",
    "\n",
    "x_train = glass_data.drop(\"Type\", axis=1)\n",
    "y_train = glass_data['Type']\n",
    "\n",
    "\n",
    "x_train, x_test, y_train, y_test = train_test_split(x_train, y_train, test_size=0.2, random_state=0)\n",
    "\n",
    "# Train the model using the training sets\n",
    "gnb = GaussianNB()\n",
    "gnb.fit(x_train, y_train)\n",
    "\n",
    "\n",
    "y_pred = gnb.predict(x_test)\n",
    "# Classification report \n",
    "qual_report = classification_report(y_test, y_pred)\n",
    "print(qual_report)\n",
    "print(\"Naive Bayes accuracy is: \",  (accuracy_score(y_test, y_pred))*100)"
   ]
  },
  {
   "cell_type": "code",
   "execution_count": 5,
   "id": "e501b869",
   "metadata": {},
   "outputs": [
    {
     "name": "stdout",
     "output_type": "stream",
     "text": [
      "              precision    recall  f1-score   support\n",
      "\n",
      "           1       0.21      1.00      0.35         9\n",
      "           2       0.00      0.00      0.00        19\n",
      "           3       0.00      0.00      0.00         5\n",
      "           5       0.00      0.00      0.00         2\n",
      "           6       0.00      0.00      0.00         2\n",
      "           7       0.00      0.00      0.00         6\n",
      "\n",
      "    accuracy                           0.21        43\n",
      "   macro avg       0.03      0.17      0.06        43\n",
      "weighted avg       0.04      0.21      0.07        43\n",
      "\n",
      "SVM accuracy is:  20.930232558139537\n"
     ]
    }
   ],
   "source": [
    "#2.Implement linear SVM method using scikit-learn \n",
    "# Use the same dataset above\n",
    "# Use train_test_split to create training and testing part\n",
    "# Evaluate the model on test part using score and \n",
    "# classification_report(y_true, y_pred)\n",
    "\n",
    "import pandas as pd\n",
    "from sklearn.model_selection import train_test_split\n",
    "from sklearn.svm import SVC\n",
    "from sklearn.metrics import classification_report, accuracy_score\n",
    "\n",
    "\n",
    "glass_data = pd.read_csv('glass.csv')\n",
    "\n",
    "x_train = glass_data.drop(\"Type\", axis=1)\n",
    "y_train = glass_data['Type']\n",
    "# splitting train and test data using train_test_split\n",
    "x_train, x_test, y_train, y_test = train_test_split(x_train, y_train, test_size=0.2, random_state=0)\n",
    "\n",
    "# Train the model using the training sets\n",
    "svc = SVC()\n",
    "svc.fit(x_train, y_train)\n",
    "y_pred = svc.predict(x_test)\n",
    "# Classification report \n",
    "qual_report = classification_report(y_test, y_pred, zero_division = 0)\n",
    "print(qual_report)\n",
    "print(\"SVM accuracy is: \", accuracy_score(y_test, y_pred)*100)\n"
   ]
  },
  {
   "cell_type": "code",
   "execution_count": 6,
   "id": "36570d41",
   "metadata": {},
   "outputs": [
    {
     "name": "stdout",
     "output_type": "stream",
     "text": [
      "<class 'pandas.core.frame.DataFrame'>\n",
      "RangeIndex: 30 entries, 0 to 29\n",
      "Data columns (total 2 columns):\n",
      " #   Column           Non-Null Count  Dtype  \n",
      "---  ------           --------------  -----  \n",
      " 0   YearsExperience  30 non-null     float64\n",
      " 1   Salary           30 non-null     float64\n",
      "dtypes: float64(2)\n",
      "memory usage: 608.0 bytes\n"
     ]
    },
    {
     "data": {
      "text/html": [
       "<div>\n",
       "<style scoped>\n",
       "    .dataframe tbody tr th:only-of-type {\n",
       "        vertical-align: middle;\n",
       "    }\n",
       "\n",
       "    .dataframe tbody tr th {\n",
       "        vertical-align: top;\n",
       "    }\n",
       "\n",
       "    .dataframe thead th {\n",
       "        text-align: right;\n",
       "    }\n",
       "</style>\n",
       "<table border=\"1\" class=\"dataframe\">\n",
       "  <thead>\n",
       "    <tr style=\"text-align: right;\">\n",
       "      <th></th>\n",
       "      <th>YearsExperience</th>\n",
       "      <th>Salary</th>\n",
       "    </tr>\n",
       "  </thead>\n",
       "  <tbody>\n",
       "    <tr>\n",
       "      <th>0</th>\n",
       "      <td>1.1</td>\n",
       "      <td>39343.0</td>\n",
       "    </tr>\n",
       "    <tr>\n",
       "      <th>1</th>\n",
       "      <td>1.3</td>\n",
       "      <td>46205.0</td>\n",
       "    </tr>\n",
       "    <tr>\n",
       "      <th>2</th>\n",
       "      <td>1.5</td>\n",
       "      <td>37731.0</td>\n",
       "    </tr>\n",
       "    <tr>\n",
       "      <th>3</th>\n",
       "      <td>2.0</td>\n",
       "      <td>43525.0</td>\n",
       "    </tr>\n",
       "    <tr>\n",
       "      <th>4</th>\n",
       "      <td>2.2</td>\n",
       "      <td>39891.0</td>\n",
       "    </tr>\n",
       "  </tbody>\n",
       "</table>\n",
       "</div>"
      ],
      "text/plain": [
       "   YearsExperience   Salary\n",
       "0              1.1  39343.0\n",
       "1              1.3  46205.0\n",
       "2              1.5  37731.0\n",
       "3              2.0  43525.0\n",
       "4              2.2  39891.0"
      ]
     },
     "execution_count": 6,
     "metadata": {},
     "output_type": "execute_result"
    }
   ],
   "source": [
    "# 3.Implement Linear Regression using scikit-learn\n",
    "# (a)Import the given “Salary_Data.csv”\n",
    "dst_Sal = pd.read_csv('Salary_Data.csv')\n",
    "dst_Sal.info()\n",
    "dst_Sal.head()"
   ]
  },
  {
   "cell_type": "code",
   "execution_count": 7,
   "id": "429dc39f",
   "metadata": {},
   "outputs": [],
   "source": [
    "A = dst_Sal.iloc[:, :-1].values   #excluding last column i.e., years of experience column\n",
    "B = dst_Sal.iloc[:, 1].values     #only salary column"
   ]
  },
  {
   "cell_type": "code",
   "execution_count": 8,
   "id": "36cde457",
   "metadata": {},
   "outputs": [],
   "source": [
    "# (b) Split the data in train_test partitions, such that 1/3 of the data is reserved as test subset.\n",
    "from sklearn.model_selection import train_test_split \n",
    "A_train, A_test, B_train, B_test = train_test_split(A, B, test_size=1/3, random_state=0)"
   ]
  },
  {
   "cell_type": "code",
   "execution_count": 9,
   "id": "1c2d0f43",
   "metadata": {},
   "outputs": [
    {
     "data": {
      "text/plain": [
       "array([ 40835.10590871, 123079.39940819,  65134.55626083,  63265.36777221,\n",
       "       115602.64545369, 108125.8914992 , 116537.23969801,  64199.96201652,\n",
       "        76349.68719258, 100649.1375447 ])"
      ]
     },
     "execution_count": 9,
     "metadata": {},
     "output_type": "execute_result"
    }
   ],
   "source": [
    "# (c) Train and predict the model.\n",
    "from sklearn.linear_model import LinearRegression\n",
    "reg = LinearRegression()\n",
    "reg.fit(A_train, B_train)\n",
    "B_Pred = reg.predict(A_test)\n",
    "B_Pred"
   ]
  },
  {
   "cell_type": "code",
   "execution_count": 10,
   "id": "2913d4cd",
   "metadata": {},
   "outputs": [
    {
     "data": {
      "text/plain": [
       "21026037.329511296"
      ]
     },
     "execution_count": 10,
     "metadata": {},
     "output_type": "execute_result"
    }
   ],
   "source": [
    "# (d) Calculate the mean_squared error\n",
    "S_error = (B_Pred - B_test) ** 2\n",
    "Sum_Serror = np.sum(S_error)\n",
    "mean_squared_error = Sum_Serror / B_test.size\n",
    "mean_squared_error"
   ]
  },
  {
   "cell_type": "code",
   "execution_count": 11,
   "id": "500cd6cc",
   "metadata": {},
   "outputs": [
    {
     "data": {
      "image/png": "[encoded data removed]",
      "text/plain": [
       "<Figure size 432x288 with 1 Axes>"
      ]
     },
     "metadata": {
      "needs_background": "light"
     },
     "output_type": "display_data"
    },
    {
     "data": {
      "image/png": "[encoded data removed]",
      "text/plain": [
       "<Figure size 432x288 with 1 Axes>"
      ]
     },
     "metadata": {
      "needs_background": "light"
     },
     "output_type": "display_data"
    }
   ],
   "source": [
    "# (e) Visualize both train and test data using scatter plot.\n",
    "import matplotlib.pyplot as plt\n",
    "# Training Data set\n",
    "plt.scatter(A_train, B_train)\n",
    "plt.plot(A_train, reg.predict(A_train), color='red')\n",
    "plt.title('Training Set')\n",
    "plt.show()\n",
    "\n",
    "# Testing Data set\n",
    "plt.scatter(A_test, B_test)\n",
    "plt.plot(A_test, reg.predict(A_test), color='red')\n",
    "plt.title('Testing Set')\n",
    "plt.show()"
   ]
  },
  {
   "cell_type": "code",
   "execution_count": null,
   "id": "79213678",
   "metadata": {},
   "outputs": [],
   "source": []
  }
 ],
 "metadata": {
  "kernelspec": {
   "display_name": "Python 3",
   "language": "python",
   "name": "python3"
  },
  "language_info": {
   "codemirror_mode": {
    "name": "ipython",
    "version": 3
   },
   "file_extension": ".py",
   "mimetype": "text/x-python",
   "name": "python",
   "nbconvert_exporter": "python",
   "pygments_lexer": "ipython3",
   "version": "3.8.3"
  },
  "vscode": {
   "interpreter": {
    "hash": "3a1484b4cfce6dbb222f66650a57d92c347346b5dc75e364c573760a4e445eac"
   }
  }
 },
 "nbformat": 4,
 "nbformat_minor": 5
}
